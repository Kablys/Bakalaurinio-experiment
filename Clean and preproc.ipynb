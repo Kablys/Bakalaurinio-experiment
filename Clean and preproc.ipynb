{
 "cells": [
  {
   "cell_type": "markdown",
   "metadata": {},
   "source": [
    "# Data clening"
   ]
  },
  {
   "cell_type": "code",
   "execution_count": null,
   "metadata": {},
   "outputs": [],
   "source": [
    "import json\n",
    "with open(\"delfi.json\", \"r\") as read_file:\n",
    "    data = json.load(read_file)"
   ]
  },
  {
   "cell_type": "code",
   "execution_count": null,
   "metadata": {},
   "outputs": [],
   "source": [
    "cleaned_data = []\n",
    "for d in data:\n",
    "    if d[\"categorys\"] in (\"projektai\", \"m360\") or len(d[\"text\"]) < 1000:# d[\"text\"] == \"\": #len(d[\"text\"]) < 1000:\n",
    "        continue\n",
    "    elif d[\"categorys\"] == 'sportas':\n",
    "        d[\"categorys\"] = 'Sportas'\n",
    "    elif d[\"categorys\"][0].startswith('DELFI '):\n",
    "        d[\"categorys\"] = d[\"categorys\"][0][6:]\n",
    "    elif isinstance(d[\"categorys\"], list):\n",
    "        d[\"categorys\"] = d[\"categorys\"][0]\n",
    "    cleaned_data.append(d)\n",
    "cleaned_data = [d for d in cleaned_data if d[\"categorys\"] in (\"Verslas\", \"Mokslas\", \"Veidai\", \"Auto\", \"Sportas\")]\n",
    "print(\"From {} to {}.\".format(len(data), len(cleaned_data)))"
   ]
  },
  {
   "cell_type": "markdown",
   "metadata": {},
   "source": [
    "# Preprocessing"
   ]
  },
  {
   "cell_type": "code",
   "execution_count": null,
   "metadata": {},
   "outputs": [],
   "source": [
    "def stemmer(tokens):\n",
    "    with open(\"tokens.txt\", \"w\") as token_file:\n",
    "        token_file.write(\"\\n\".join(tokens))\n",
    "    args = (\"./stemwords\", \"-l\", \"lt\", \"-i\", \"tokens.txt\", \"-o\", \"stems.txt\")\n",
    "    popen = subprocess.Popen(args, stdout=subprocess.PIPE)\n",
    "    popen.wait()\n",
    "    with open(\"stems.txt\", \"r\") as stem_file:\n",
    "        stems = stem_file.read().split(\"\\n\")\n",
    "    return stems"
   ]
  },
  {
   "cell_type": "code",
   "execution_count": null,
   "metadata": {},
   "outputs": [],
   "source": [
    "%%time\n",
    "import re\n",
    "import subprocess\n",
    "\n",
    "text_file = open(\"Lithuanian stop words\", \"r\")\n",
    "stopwords = text_file.read().split(\"\\n\")\n",
    "text_file.close()\n",
    "\n",
    "for d in cleaned_data:    \n",
    "    # tokenize & lowercase\n",
    "    tokens = re.sub(\"[\\W\\d_]+\", \" \", d[\"text\"]).lower().split() # ka daryti su 1992-ųjų, romėniškais skaičiais, 2 mln. eur\\\n",
    "    \n",
    "    # separate stop words\n",
    "    stop_tokens = [words for words in tokens if words     in stopwords]\n",
    "    d[\"stop_tokens\"] = stop_tokens\n",
    "    tokens      = [words for words in tokens if words not in stopwords]\n",
    "    d[\"tokens\"]      = tokens\n",
    "    \n",
    "    # steams\n",
    "    d[\"stems\"]      = stemmer(tokens)\n",
    "    d[\"stop_stems\"] = stemmer(stop_tokens)    \n",
    "\n",
    "# TODO add stats    \n",
    "    \n",
    "# save as file\n",
    "with open(\"delfi_pre.json\", \"w\") as write_file:\n",
    "    json.dump(cleaned_data, write_file)"
   ]
  },
  {
   "cell_type": "code",
   "execution_count": null,
   "metadata": {},
   "outputs": [],
   "source": [
    "# This page has pure from for lemmatization data http://donelaitis.vdu.lt/main_helper.php?id=4&nr=7_2\n",
    "# I fill try to forge http request to get file.\n",
    "# Becouse tool returns invalid xml I need to parse it myself.\n",
    "from bs4 import BeautifulSoup\n",
    "import requests\n",
    "import re\n",
    "import time\n",
    "\n",
    "def lemmer(text):\n",
    "    textload = text\n",
    "    payload = {'tekstas': textload,\n",
    "               'tipas': 'anotuoti',\n",
    "               'pateikti': 'LM',\n",
    "               'veiksmas': 'Rezultatas puslapyje'}\n",
    "    while True:\n",
    "        try:\n",
    "            r = requests.post('http://donelaitis.vdu.lt/main_helper.php?id=4&nr=7_2',\n",
    "                             data = payload, allow_redirects=True)\n",
    "        \n",
    "            if (r.status_code != requests.codes.ok):\n",
    "                raise Exception(r.status_code)\n",
    "\n",
    "            soup = BeautifulSoup(r.text).decode(formatter=None) # to remove &lt\n",
    "            #return  str(soup)\n",
    "            textAnalysis = re.sub(\"<html>[\\w\\W]*</form>|<br>\\n<p/><br>\\n|(\\n)?</body></html>|<br>\", \"\", str(soup))\n",
    "            if (len(textAnalysis) == len(text) or len(textAnalysis) == 0):\n",
    "                raise Exception(textAnalysis)\n",
    "\n",
    "            return textAnalysis\n",
    "\n",
    "        except Exception as e:\n",
    "            print(time.ctime())\n",
    "            print(e)\n",
    "            time.sleep(60)\n",
    "            continue"
   ]
  },
  {
   "cell_type": "code",
   "execution_count": null,
   "metadata": {},
   "outputs": [],
   "source": [
    "# If uncommented will send requests to internet for analysis\n",
    "\n",
    "#for d in cleaned_data:\n",
    "#     lemmas = lemmer(d[\"text\"])\n",
    "#     d[\"lemms\"] = lemmas\n",
    "#     time.sleep(5)\n",
    "    \n",
    "# with open(\"delfi_lemmas.json\", \"w\") as write_file:\n",
    "#     json.dump(cleaned_data, write_file)"
   ]
  }
 ],
 "metadata": {
  "kernelspec": {
   "display_name": "Python 3",
   "language": "python",
   "name": "python3"
  },
  "language_info": {
   "codemirror_mode": {
    "name": "ipython",
    "version": 3
   },
   "file_extension": ".py",
   "mimetype": "text/x-python",
   "name": "python",
   "nbconvert_exporter": "python",
   "pygments_lexer": "ipython3",
   "version": "3.5.2"
  }
 },
 "nbformat": 4,
 "nbformat_minor": 2
}
